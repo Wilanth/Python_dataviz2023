{
  "nbformat": 4,
  "nbformat_minor": 0,
  "metadata": {
    "colab": {
      "provenance": [],
      "collapsed_sections": [
        "YrFJUFv1gi0t"
      ],
      "include_colab_link": true
    },
    "kernelspec": {
      "name": "python3",
      "display_name": "Python 3"
    },
    "language_info": {
      "name": "python"
    }
  },
  "cells": [
    {
      "cell_type": "markdown",
      "metadata": {
        "id": "view-in-github",
        "colab_type": "text"
      },
      "source": [
        "<a href=\"https://colab.research.google.com/github/Wilanth/Python_dataviz2023/blob/main/Python101.ipynb\" target=\"_parent\"><img src=\"https://colab.research.google.com/assets/colab-badge.svg\" alt=\"Open In Colab\"/></a>"
      ]
    },
    {
      "cell_type": "markdown",
      "source": [
        "ข้อความในช่อง text เป็น ภาษา Markdown (https://www.markdownguide.org/cheat-sheet/)  #ใช้ตกแต่ความสวยงามได้ เช่นเขียนสมการ"
      ],
      "metadata": {
        "id": "dyp-0Cs8pTph"
      }
    },
    {
      "cell_type": "markdown",
      "source": [
        "# การจัดการข้อความในการแสดงผล (Print)\n",
        "  `print(ข้อความ)` = การแสดง Output ออกมาทางหน้าจอ\n",
        "  ---------------------------------------------------------------\n",
        "## string\n",
        "### test heading 3\n",
        "`print(ข้อความ)` #ใช้ในการเน้นโค้ด"
      ],
      "metadata": {
        "id": "stjY3Wz-pZHz"
      }
    },
    {
      "cell_type": "markdown",
      "source": [
        "## ข้อความ (string)\n"
      ],
      "metadata": {
        "id": "lpjwbRJcQpty"
      }
    },
    {
      "cell_type": "code",
      "source": [
        "print('test')"
      ],
      "metadata": {
        "colab": {
          "base_uri": "https://localhost:8080/"
        },
        "id": "utdkJE1fpq9v",
        "outputId": "86a73ae3-3693-491b-8e7b-79159d5eaac6"
      },
      "execution_count": 1,
      "outputs": [
        {
          "output_type": "stream",
          "name": "stdout",
          "text": [
            "test\n"
          ]
        }
      ]
    },
    {
      "cell_type": "code",
      "source": [
        "print(\"test\")"
      ],
      "metadata": {
        "colab": {
          "base_uri": "https://localhost:8080/"
        },
        "id": "R68cpK97t0RW",
        "outputId": "2876e507-c2c5-47a7-c596-e28b190bcc6c"
      },
      "execution_count": 6,
      "outputs": [
        {
          "output_type": "stream",
          "name": "stdout",
          "text": [
            "test\n"
          ]
        }
      ]
    },
    {
      "cell_type": "code",
      "source": [
        "'สถิติ'  # ' quote"
      ],
      "metadata": {
        "colab": {
          "base_uri": "https://localhost:8080/",
          "height": 36
        },
        "id": "FB8Pcv-xp0cT",
        "outputId": "bb23a571-037f-455a-98c0-fea45acee2bb"
      },
      "execution_count": null,
      "outputs": [
        {
          "output_type": "execute_result",
          "data": {
            "text/plain": [
              "'สถิติ'"
            ],
            "application/vnd.google.colaboratory.intrinsic+json": {
              "type": "string"
            }
          },
          "metadata": {},
          "execution_count": 10
        }
      ]
    },
    {
      "cell_type": "code",
      "source": [
        "\"สถิติ\" # \" double quote"
      ],
      "metadata": {
        "colab": {
          "base_uri": "https://localhost:8080/",
          "height": 36
        },
        "id": "nJEiTJeYp2Mt",
        "outputId": "f1379c06-679b-4099-cfc2-2347d43c2f5e"
      },
      "execution_count": null,
      "outputs": [
        {
          "output_type": "execute_result",
          "data": {
            "text/plain": [
              "'สถิติ'"
            ],
            "application/vnd.google.colaboratory.intrinsic+json": {
              "type": "string"
            }
          },
          "metadata": {},
          "execution_count": 11
        }
      ]
    },
    {
      "cell_type": "markdown",
      "source": [
        "## ผลการรันแสดงออกมา ได้ 2 แบบ\n",
        "1. ถ้าไม่มีตัวแปรมารับ ก็จะแสดงผลออกที่หน้าจอ\n",
        "2. ถ้ามีตัวแปรมารับ ผลการรันก็จะไปอยู่ในตัวแปร"
      ],
      "metadata": {
        "id": "vMW8gPpTQ4yu"
      }
    },
    {
      "cell_type": "code",
      "source": [
        "1+3 # ไม่มีตัวแปรมารับ  /// ตัวเลขบวกตัวเลขได้เลย"
      ],
      "metadata": {
        "colab": {
          "base_uri": "https://localhost:8080/"
        },
        "id": "v0rQ1CHXRSMn",
        "outputId": "80bcd7a5-357b-4e6f-c74a-01c749b5c9ba"
      },
      "execution_count": 3,
      "outputs": [
        {
          "output_type": "execute_result",
          "data": {
            "text/plain": [
              "4"
            ]
          },
          "metadata": {},
          "execution_count": 3
        }
      ]
    },
    {
      "cell_type": "code",
      "source": [
        "a = 1+3 #มีตัวแปร a มารับผลการบวก"
      ],
      "metadata": {
        "id": "lWOn8HAbRhdK"
      },
      "execution_count": 4,
      "outputs": []
    },
    {
      "cell_type": "code",
      "source": [
        "print(a) # มาอยู่ที่ตัวแปร A"
      ],
      "metadata": {
        "colab": {
          "base_uri": "https://localhost:8080/"
        },
        "id": "dfT41NYMRozJ",
        "outputId": "d8b01bed-99b6-4289-e869-d0d2ea925543"
      },
      "execution_count": 5,
      "outputs": [
        {
          "output_type": "stream",
          "name": "stdout",
          "text": [
            "4\n"
          ]
        }
      ]
    },
    {
      "cell_type": "markdown",
      "source": [
        "###print() -> separator"
      ],
      "metadata": {
        "id": "9WhekAhHyofH"
      }
    },
    {
      "cell_type": "code",
      "source": [
        "print('stat','สถิติ')"
      ],
      "metadata": {
        "colab": {
          "base_uri": "https://localhost:8080/"
        },
        "id": "CrC_fYGhvOMf",
        "outputId": "3eb4a6a1-817d-4078-dae8-4f58cf2b2103"
      },
      "execution_count": 8,
      "outputs": [
        {
          "output_type": "stream",
          "name": "stdout",
          "text": [
            "stat สถิติ\n"
          ]
        }
      ]
    },
    {
      "cell_type": "code",
      "source": [
        "print('stat','สถิติ',sep='')"
      ],
      "metadata": {
        "colab": {
          "base_uri": "https://localhost:8080/"
        },
        "id": "-37TLUn9vN5W",
        "outputId": "588e011b-b5b5-46ae-c34e-6472bed70e71"
      },
      "execution_count": 9,
      "outputs": [
        {
          "output_type": "stream",
          "name": "stdout",
          "text": [
            "statสถิติ\n"
          ]
        }
      ]
    },
    {
      "cell_type": "markdown",
      "source": [
        "### print() -> end"
      ],
      "metadata": {
        "id": "1ydFAG5lz6e1"
      }
    },
    {
      "cell_type": "code",
      "source": [
        "print('stat')\n",
        "print('SIDS')"
      ],
      "metadata": {
        "colab": {
          "base_uri": "https://localhost:8080/"
        },
        "id": "7D3e0SRFwSbn",
        "outputId": "a065ec31-c23d-4118-e7ea-81ad83c7a365"
      },
      "execution_count": 10,
      "outputs": [
        {
          "output_type": "stream",
          "name": "stdout",
          "text": [
            "stat\n",
            "SIDS\n"
          ]
        }
      ]
    },
    {
      "cell_type": "code",
      "source": [
        "print('stat',end=', ')\n",
        "print('SIDS')"
      ],
      "metadata": {
        "colab": {
          "base_uri": "https://localhost:8080/"
        },
        "id": "FJIFBeV8wfU_",
        "outputId": "b29e5f60-b828-40d4-eb5a-51511f2c4755"
      },
      "execution_count": 14,
      "outputs": [
        {
          "output_type": "stream",
          "name": "stdout",
          "text": [
            "stat, SIDS\n"
          ]
        }
      ]
    },
    {
      "cell_type": "markdown",
      "source": [
        "# ชนิดของตัวแปร (variables)"
      ],
      "metadata": {
        "id": "ra1DJHWszQpm"
      }
    },
    {
      "cell_type": "markdown",
      "source": [
        "ืีnumeric"
      ],
      "metadata": {
        "id": "OrWh6pBN0rfm"
      }
    },
    {
      "cell_type": "code",
      "source": [
        "a = 12\n",
        "b = 1.3"
      ],
      "metadata": {
        "id": "lJOihHn-0FjF"
      },
      "execution_count": 13,
      "outputs": []
    },
    {
      "cell_type": "code",
      "source": [
        "print(type(a),type(b))"
      ],
      "metadata": {
        "colab": {
          "base_uri": "https://localhost:8080/"
        },
        "id": "x-0X7k7T0SZa",
        "outputId": "0f80b5f1-1b4e-4744-ef91-d69fd8751d31"
      },
      "execution_count": 15,
      "outputs": [
        {
          "output_type": "stream",
          "name": "stdout",
          "text": [
            "<class 'int'> <class 'float'>\n"
          ]
        }
      ]
    },
    {
      "cell_type": "code",
      "source": [
        "c = a/b"
      ],
      "metadata": {
        "id": "azu0nH7OyKUo"
      },
      "execution_count": 16,
      "outputs": []
    },
    {
      "cell_type": "code",
      "source": [
        "c"
      ],
      "metadata": {
        "colab": {
          "base_uri": "https://localhost:8080/"
        },
        "id": "aMtZ0-qc0z5M",
        "outputId": "d813c6a2-da4a-4dfb-822b-7dfdf6e7f4f1"
      },
      "execution_count": 17,
      "outputs": [
        {
          "output_type": "execute_result",
          "data": {
            "text/plain": [
              "9.23076923076923"
            ]
          },
          "metadata": {},
          "execution_count": 17
        }
      ]
    },
    {
      "cell_type": "markdown",
      "source": [
        "modulo (%) การหารเอาเศษ"
      ],
      "metadata": {
        "id": "HtzN5sUl1Ck2"
      }
    },
    {
      "cell_type": "code",
      "source": [
        "7%4"
      ],
      "metadata": {
        "colab": {
          "base_uri": "https://localhost:8080/"
        },
        "id": "EjueSIJG1QPt",
        "outputId": "d63460ab-e577-4988-a6f0-dcc4bc7b13be"
      },
      "execution_count": 18,
      "outputs": [
        {
          "output_type": "execute_result",
          "data": {
            "text/plain": [
              "3"
            ]
          },
          "metadata": {},
          "execution_count": 18
        }
      ]
    },
    {
      "cell_type": "markdown",
      "source": [
        "ยกกำลัง (**)"
      ],
      "metadata": {
        "id": "AybTGX1g1lJN"
      }
    },
    {
      "cell_type": "code",
      "source": [
        "2**10"
      ],
      "metadata": {
        "colab": {
          "base_uri": "https://localhost:8080/"
        },
        "id": "KXO9CYc_1XO1",
        "outputId": "4db18eb0-6f39-48da-e90e-3b00d73ce66c"
      },
      "execution_count": 20,
      "outputs": [
        {
          "output_type": "execute_result",
          "data": {
            "text/plain": [
              "1024"
            ]
          },
          "metadata": {},
          "execution_count": 20
        }
      ]
    },
    {
      "cell_type": "markdown",
      "source": [
        "## string (```''```&```\"\"```)"
      ],
      "metadata": {
        "id": "MPH-Xfo62ObO"
      }
    },
    {
      "cell_type": "code",
      "source": [
        "'1'+'3' # string +string คือการต่อ string"
      ],
      "metadata": {
        "colab": {
          "base_uri": "https://localhost:8080/",
          "height": 35
        },
        "id": "vTfCqql21uzG",
        "outputId": "265bf3c8-9cd8-45c6-ee71-5907a7b497e0"
      },
      "execution_count": 21,
      "outputs": [
        {
          "output_type": "execute_result",
          "data": {
            "text/plain": [
              "'13'"
            ],
            "application/vnd.google.colaboratory.intrinsic+json": {
              "type": "string"
            }
          },
          "metadata": {},
          "execution_count": 21
        }
      ]
    },
    {
      "cell_type": "code",
      "source": [
        "'1'-'3' # string -string  ทำไม่ได้"
      ],
      "metadata": {
        "colab": {
          "base_uri": "https://localhost:8080/",
          "height": 165
        },
        "id": "Wn6HTvLd05rF",
        "outputId": "6cf407c3-b11a-4157-ca24-4666a846c44c"
      },
      "execution_count": 23,
      "outputs": [
        {
          "output_type": "error",
          "ename": "TypeError",
          "evalue": "ignored",
          "traceback": [
            "\u001b[0;31m---------------------------------------------------------------------------\u001b[0m",
            "\u001b[0;31mTypeError\u001b[0m                                 Traceback (most recent call last)",
            "\u001b[0;32m<ipython-input-23-5787ec1dcda9>\u001b[0m in \u001b[0;36m<cell line: 1>\u001b[0;34m()\u001b[0m\n\u001b[0;32m----> 1\u001b[0;31m \u001b[0;34m'1'\u001b[0m\u001b[0;34m-\u001b[0m\u001b[0;34m'3'\u001b[0m \u001b[0;31m# string -string  ทำไม่ได้\u001b[0m\u001b[0;34m\u001b[0m\u001b[0;34m\u001b[0m\u001b[0m\n\u001b[0m",
            "\u001b[0;31mTypeError\u001b[0m: unsupported operand type(s) for -: 'str' and 'str'"
          ]
        }
      ]
    },
    {
      "cell_type": "code",
      "source": [
        "5*'6' # ใช้ได้"
      ],
      "metadata": {
        "colab": {
          "base_uri": "https://localhost:8080/",
          "height": 35
        },
        "id": "lhqZSBjgR_nk",
        "outputId": "e0650e83-23b0-4e95-a5af-352577b3434f"
      },
      "execution_count": 22,
      "outputs": [
        {
          "output_type": "execute_result",
          "data": {
            "text/plain": [
              "'66666'"
            ],
            "application/vnd.google.colaboratory.intrinsic+json": {
              "type": "string"
            }
          },
          "metadata": {},
          "execution_count": 22
        }
      ]
    },
    {
      "cell_type": "markdown",
      "source": [
        "# Quiz 1\n",
        "\n",
        "print มาก ที่มี ก.ไก่ 100 ตัว"
      ],
      "metadata": {
        "id": "L2eRrpBu43cm"
      }
    },
    {
      "cell_type": "code",
      "source": [
        "'มา'+ 100*'ก'"
      ],
      "metadata": {
        "colab": {
          "base_uri": "https://localhost:8080/",
          "height": 35
        },
        "id": "TEQReEjwqPXM",
        "outputId": "4afca791-89ab-4e5b-e8fb-e80bb5a8919a"
      },
      "execution_count": 26,
      "outputs": [
        {
          "output_type": "execute_result",
          "data": {
            "text/plain": [
              "'มากกกกกกกกกกกกกกกกกกกกกกกกกกกกกกกกกกกกกกกกกกกกกกกกกกกกกกกกกกกกกกกกกกกกกกกกกกกกกกกกกกกกกกกกกกกกกกกกกกกก'"
            ],
            "application/vnd.google.colaboratory.intrinsic+json": {
              "type": "string"
            }
          },
          "metadata": {},
          "execution_count": 26
        }
      ]
    },
    {
      "cell_type": "markdown",
      "source": [
        "## ข้อกำหนดในการตั้งชื่อตัวแปร\n",
        "1. พยายามตั้งชื่อให้สื่อความหมาย\n",
        "2. ต้องเป็นภาษาอังกฤษ\n",
        "3. ใช้ตัวเลขผสมกับตัวหนังสือได้ แต่ห้ามขึ้นต้นด้วยตัวเลข\n",
        "4. ห้ามมีเว้นวรรคในชื่อตัวแปร\n",
        "5.ตัวใหญ่ตัวเล็ก มีค่าไม่เท่ากัน"
      ],
      "metadata": {
        "id": "8qpcHFr0V4_a"
      }
    },
    {
      "cell_type": "code",
      "source": [],
      "metadata": {
        "id": "iUTvn8KGA8pG"
      },
      "execution_count": null,
      "outputs": []
    },
    {
      "cell_type": "markdown",
      "source": [
        "## Advanced Printing ( print code ร่วมกับข้อความ)\n",
        "เราสามารถ print code ร่วมกับข้อความได้\n",
        "\n",
        "```python\n",
        "print(f'ข้อความ{code}') #ข้างในปีกการใส่ข้อความอะไรก็ได้\n",
        "```\n",
        "\n",
        "```Python\n",
        "print(f'หนึ่ง บวก สอง (1+2) เท่ากับ สาม ({1+2})')\n",
        "```"
      ],
      "metadata": {
        "id": "ioBKz9DSW-aJ"
      }
    },
    {
      "cell_type": "code",
      "source": [
        "print(f'หนึ่ง บวก สอง (1+2) เท่ากับ สาม ({1+2})')  # {}  Curly Brackets เอาไว้ใส่ code"
      ],
      "metadata": {
        "colab": {
          "base_uri": "https://localhost:8080/"
        },
        "id": "EWWpPiEAifRy",
        "outputId": "19ec74a0-4c83-4272-a144-910aff549f79"
      },
      "execution_count": null,
      "outputs": [
        {
          "output_type": "stream",
          "name": "stdout",
          "text": [
            "หนึ่ง บวก สอง (1+2) เท่ากับ สาม (3)\n"
          ]
        }
      ]
    },
    {
      "cell_type": "code",
      "source": [
        "print(f'ตัวแปร c ={c}')"
      ],
      "metadata": {
        "id": "R_-Rj6q-YnO1",
        "colab": {
          "base_uri": "https://localhost:8080/"
        },
        "outputId": "f121645f-974d-4fe9-ee76-9cb7157846a4"
      },
      "execution_count": 27,
      "outputs": [
        {
          "output_type": "stream",
          "name": "stdout",
          "text": [
            "ตัวแปร c =9.23076923076923\n"
          ]
        }
      ]
    },
    {
      "cell_type": "code",
      "source": [
        "print(f'ส่วนนี้ไม่ใช่ code>2*3 3-5 // ส่วนของ code>{2*3} {3-5}')"
      ],
      "metadata": {
        "colab": {
          "base_uri": "https://localhost:8080/"
        },
        "id": "u64NGXiCYKgM",
        "outputId": "e5e6bc03-6f69-4729-8920-6ce7d5336141"
      },
      "execution_count": 28,
      "outputs": [
        {
          "output_type": "stream",
          "name": "stdout",
          "text": [
            "ส่วนนี้ไม่ใช่ code>2*3 3-5 // ส่วนของ code>6 -2\n"
          ]
        }
      ]
    },
    {
      "cell_type": "code",
      "source": [
        "print(f'หนึ่ง บวก สอง (1+2) เท่ากับ สาม ({1+2})') #Curly Brackets"
      ],
      "metadata": {
        "colab": {
          "base_uri": "https://localhost:8080/"
        },
        "id": "R7LX5RkNX13U",
        "outputId": "35a3341e-71d0-47a3-a28a-224150a52bde"
      },
      "execution_count": 29,
      "outputs": [
        {
          "output_type": "stream",
          "name": "stdout",
          "text": [
            "หนึ่ง บวก สอง (1+2) เท่ากับ สาม (3)\n"
          ]
        }
      ]
    },
    {
      "cell_type": "code",
      "source": [
        "a = 1\n",
        "b = 2\n",
        "print(f'หนึ่ง บวก สอง ({a}+{b}) เท่ากับ สาม ({a+b})')"
      ],
      "metadata": {
        "colab": {
          "base_uri": "https://localhost:8080/"
        },
        "id": "mVxIA-ygZQ87",
        "outputId": "188a4e06-9b27-49b8-f734-057d283782ca"
      },
      "execution_count": 30,
      "outputs": [
        {
          "output_type": "stream",
          "name": "stdout",
          "text": [
            "หนึ่ง บวก สอง (1+2) เท่ากับ สาม (3)\n"
          ]
        }
      ]
    },
    {
      "cell_type": "code",
      "source": [
        "a = 5\n",
        "b = 2"
      ],
      "metadata": {
        "id": "BMWLQp3HaPZ7"
      },
      "execution_count": null,
      "outputs": []
    },
    {
      "cell_type": "code",
      "source": [
        "print(f'{a}+{b} = {a+b}')"
      ],
      "metadata": {
        "colab": {
          "base_uri": "https://localhost:8080/"
        },
        "id": "060E9xI7tJaG",
        "outputId": "4e822e99-6a4c-406f-a552-98d8b41ebab0"
      },
      "execution_count": null,
      "outputs": [
        {
          "output_type": "stream",
          "name": "stdout",
          "text": [
            "5+2 = 7\n"
          ]
        }
      ]
    },
    {
      "cell_type": "markdown",
      "source": [
        "decimal places (ทศนิยมกี่ตำแหน่ง) || digit"
      ],
      "metadata": {
        "id": "fhmHajcxDtfL"
      }
    },
    {
      "cell_type": "markdown",
      "source": [
        "decimal places"
      ],
      "metadata": {
        "id": "ZFIvhKmlEK68"
      }
    },
    {
      "cell_type": "code",
      "source": [
        "f'{1.009:.2f}'"
      ],
      "metadata": {
        "id": "pVsuJbaUDpDU",
        "outputId": "adb7068b-d750-48ce-b847-badeec46f0e9",
        "colab": {
          "base_uri": "https://localhost:8080/",
          "height": 35
        }
      },
      "execution_count": 34,
      "outputs": [
        {
          "output_type": "execute_result",
          "data": {
            "text/plain": [
              "'1.01'"
            ],
            "application/vnd.google.colaboratory.intrinsic+json": {
              "type": "string"
            }
          },
          "metadata": {},
          "execution_count": 34
        }
      ]
    },
    {
      "cell_type": "code",
      "source": [
        "f'{c:.2f}'"
      ],
      "metadata": {
        "id": "ykg5kcnVF1aX",
        "outputId": "71a462bd-54fb-4399-9bc1-1756eb5799e1",
        "colab": {
          "base_uri": "https://localhost:8080/",
          "height": 35
        }
      },
      "execution_count": 36,
      "outputs": [
        {
          "output_type": "execute_result",
          "data": {
            "text/plain": [
              "'9.23'"
            ],
            "application/vnd.google.colaboratory.intrinsic+json": {
              "type": "string"
            }
          },
          "metadata": {},
          "execution_count": 36
        }
      ]
    },
    {
      "cell_type": "markdown",
      "source": [
        "digit"
      ],
      "metadata": {
        "id": "YAQeKQIwFgl7"
      }
    },
    {
      "cell_type": "code",
      "source": [
        "f'{1:03d}' # 1 ใน {} คือตัวเลขที่ต้องการ"
      ],
      "metadata": {
        "id": "W48JHFMsFjz7",
        "outputId": "8525c44f-d5c1-448d-c941-32e103c7af61",
        "colab": {
          "base_uri": "https://localhost:8080/",
          "height": 35
        }
      },
      "execution_count": 35,
      "outputs": [
        {
          "output_type": "execute_result",
          "data": {
            "text/plain": [
              "'001'"
            ],
            "application/vnd.google.colaboratory.intrinsic+json": {
              "type": "string"
            }
          },
          "metadata": {},
          "execution_count": 35
        }
      ]
    },
    {
      "cell_type": "markdown",
      "source": [
        "## ชนิดของตัวแปร\n"
      ],
      "metadata": {
        "id": "TDIPg9nhtZT1"
      }
    },
    {
      "cell_type": "markdown",
      "source": [
        "### char(acter) (ตัวอักษร)\n",
        "\n",
        "- มี 1 ตัว = ตัวอักษร\n",
        "- เอาตัวอักษรมาต่อกัน = ข้อความ\n",
        "- operator ในการ บวก ลบ คูณ หาร เหมือนกับ 'ข้อความ'\n",
        "- แต่!!!!!!! ไม่สามารถเอา 'ข้อความ' มาทำการบวกกับ 'ตัวอักษร'ได้"
      ],
      "metadata": {
        "id": "NWxPKE3htcHu"
      }
    },
    {
      "cell_type": "code",
      "source": [
        "a = 'Ch'"
      ],
      "metadata": {
        "id": "WZ7UHpFRtirB"
      },
      "execution_count": null,
      "outputs": []
    },
    {
      "cell_type": "code",
      "source": [
        "b = 'aracter'"
      ],
      "metadata": {
        "id": "_7-1_R8YtmPu"
      },
      "execution_count": null,
      "outputs": []
    },
    {
      "cell_type": "code",
      "source": [
        "print(f'a={a} b={b}, then {a}+{b} = {a+b}')"
      ],
      "metadata": {
        "colab": {
          "base_uri": "https://localhost:8080/"
        },
        "id": "iR1F_3gXtpqA",
        "outputId": "679e35b2-ae6d-40bd-dbea-33d15ae6cdf1"
      },
      "execution_count": null,
      "outputs": [
        {
          "output_type": "stream",
          "name": "stdout",
          "text": [
            "a=Ch b=aracter, then Ch+aracter = Character\n"
          ]
        }
      ]
    },
    {
      "cell_type": "code",
      "source": [
        "A = 'c'\n",
        "B = 'a'"
      ],
      "metadata": {
        "id": "ToiDzo_RtteU"
      },
      "execution_count": null,
      "outputs": []
    },
    {
      "cell_type": "code",
      "source": [
        "print(A+B)"
      ],
      "metadata": {
        "colab": {
          "base_uri": "https://localhost:8080/"
        },
        "id": "SD5NdgoOtv54",
        "outputId": "2ef04c20-c9c2-4c57-85e0-ea2271b19df0"
      },
      "execution_count": null,
      "outputs": [
        {
          "output_type": "stream",
          "name": "stdout",
          "text": [
            "ca\n"
          ]
        }
      ]
    },
    {
      "cell_type": "markdown",
      "source": [
        "### int(eger) (จำนวนเต็ม)"
      ],
      "metadata": {
        "id": "yiNw6ea5ty70"
      }
    },
    {
      "cell_type": "code",
      "source": [
        "int_a = 7\n",
        "int_b = 2"
      ],
      "metadata": {
        "id": "1kvzb3yyt3zB"
      },
      "execution_count": null,
      "outputs": []
    },
    {
      "cell_type": "code",
      "source": [
        "int_c = int_a + int_b\n",
        "print(int_c)"
      ],
      "metadata": {
        "colab": {
          "base_uri": "https://localhost:8080/"
        },
        "id": "e3iN8lIrt7AX",
        "outputId": "a0e5f0f2-7249-4d72-bea4-4927f6ed28da"
      },
      "execution_count": null,
      "outputs": [
        {
          "output_type": "stream",
          "name": "stdout",
          "text": [
            "9\n"
          ]
        }
      ]
    },
    {
      "cell_type": "markdown",
      "source": [
        "### float (จำนวนจริง ทศนิยม)\n",
        "    double เหมือย float เเต่แค่ใช้พื้นที่เก็บข้อมูลมากกว่า"
      ],
      "metadata": {
        "id": "Q1YoWWn_ug0G"
      }
    },
    {
      "cell_type": "code",
      "source": [
        "fl_a = 7.  # เขียนแค่จุดก็ได้\n",
        "fl_b = 2.571"
      ],
      "metadata": {
        "id": "UCeFO3Xhulln"
      },
      "execution_count": null,
      "outputs": []
    },
    {
      "cell_type": "code",
      "source": [
        "fl_a"
      ],
      "metadata": {
        "colab": {
          "base_uri": "https://localhost:8080/"
        },
        "id": "Mzll_99fuuUC",
        "outputId": "f77570af-40be-4ba8-9ab2-a6ec008eb13c"
      },
      "execution_count": null,
      "outputs": [
        {
          "output_type": "execute_result",
          "data": {
            "text/plain": [
              "7.0"
            ]
          },
          "metadata": {},
          "execution_count": 15
        }
      ]
    },
    {
      "cell_type": "code",
      "source": [
        "fl_b\n"
      ],
      "metadata": {
        "colab": {
          "base_uri": "https://localhost:8080/"
        },
        "id": "k8OSG4wEu7qr",
        "outputId": "e9dabc40-f5dc-40f0-f9ba-007b6b14fb68"
      },
      "execution_count": null,
      "outputs": [
        {
          "output_type": "execute_result",
          "data": {
            "text/plain": [
              "2.571"
            ]
          },
          "metadata": {},
          "execution_count": 16
        }
      ]
    },
    {
      "cell_type": "code",
      "source": [
        "print(fl_a)"
      ],
      "metadata": {
        "colab": {
          "base_uri": "https://localhost:8080/"
        },
        "id": "EUHK9PhGvB4Z",
        "outputId": "ad8fcc03-6acc-4938-de62-515078a2c24c"
      },
      "execution_count": null,
      "outputs": [
        {
          "output_type": "stream",
          "name": "stdout",
          "text": [
            "7.0\n"
          ]
        }
      ]
    },
    {
      "cell_type": "markdown",
      "source": [
        "### boolean (ตัวแปรที่มีค่า True หรือ False) ตรรกศาสตร์"
      ],
      "metadata": {
        "id": "eWXJHDlavIHW"
      }
    },
    {
      "cell_type": "code",
      "source": [
        "b_T = True"
      ],
      "metadata": {
        "id": "DPBMihn-vKyp"
      },
      "execution_count": null,
      "outputs": []
    },
    {
      "cell_type": "code",
      "source": [
        "b_F = False"
      ],
      "metadata": {
        "id": "pj14n8PYvQJA"
      },
      "execution_count": null,
      "outputs": []
    },
    {
      "cell_type": "code",
      "source": [
        "print(b_T and b_F)"
      ],
      "metadata": {
        "colab": {
          "base_uri": "https://localhost:8080/"
        },
        "id": "kY6iwkEsvTwy",
        "outputId": "d38f6e74-3c47-40fc-f701-d66912a808f7"
      },
      "execution_count": null,
      "outputs": [
        {
          "output_type": "stream",
          "name": "stdout",
          "text": [
            "False\n"
          ]
        }
      ]
    },
    {
      "cell_type": "code",
      "source": [
        "print(b_T or b_F)"
      ],
      "metadata": {
        "colab": {
          "base_uri": "https://localhost:8080/"
        },
        "id": "vcRrzk_QvWoE",
        "outputId": "049ff2bd-dd83-4033-f189-40123e8db822"
      },
      "execution_count": null,
      "outputs": [
        {
          "output_type": "stream",
          "name": "stdout",
          "text": [
            "True\n"
          ]
        }
      ]
    },
    {
      "cell_type": "markdown",
      "source": [
        "### complex (จำนวนเชิงซ้อน)\n",
        "    จน.จริง + จน.จินตภาพ"
      ],
      "metadata": {
        "id": "jbSnNqhPvc7D"
      }
    },
    {
      "cell_type": "code",
      "source": [
        "x = 1 + 2j"
      ],
      "metadata": {
        "id": "fPWokv4cve2g"
      },
      "execution_count": null,
      "outputs": []
    },
    {
      "cell_type": "code",
      "source": [
        "print(x)"
      ],
      "metadata": {
        "colab": {
          "base_uri": "https://localhost:8080/"
        },
        "id": "rf30M4Zjvj5G",
        "outputId": "ba1587aa-8feb-4520-96d6-13f190d6041d"
      },
      "execution_count": null,
      "outputs": [
        {
          "output_type": "stream",
          "name": "stdout",
          "text": [
            "(1+2j)\n"
          ]
        }
      ]
    },
    {
      "cell_type": "markdown",
      "source": [
        "### เราสามารถตรวจสอบชนิดของตัวแปรด้วยคำสั่ง type()"
      ],
      "metadata": {
        "id": "bpYtyNhSwC8R"
      }
    },
    {
      "cell_type": "markdown",
      "source": [
        "```type()```"
      ],
      "metadata": {
        "id": "NpJ4JLgKwLcg"
      }
    },
    {
      "cell_type": "code",
      "source": [
        "print(f'ตัวแปร x ค่าคือ {x} ชนิด {type(x)}')"
      ],
      "metadata": {
        "colab": {
          "base_uri": "https://localhost:8080/"
        },
        "id": "zMq2ttHTwNp_",
        "outputId": "28332aeb-96c1-4736-a02f-d0069b741193"
      },
      "execution_count": null,
      "outputs": [
        {
          "output_type": "stream",
          "name": "stdout",
          "text": [
            "ตัวแปร x ค่าคือ (1+2j) ชนิด <class 'complex'>\n"
          ]
        }
      ]
    },
    {
      "cell_type": "code",
      "source": [
        "print(f'ตัวแปร A ค่าคือ {A} ชนิด {type(A)}')"
      ],
      "metadata": {
        "colab": {
          "base_uri": "https://localhost:8080/"
        },
        "id": "7yo0hgO5wQ7o",
        "outputId": "0d96bc0a-bf8e-4e53-8df5-534ce37aaa60"
      },
      "execution_count": null,
      "outputs": [
        {
          "output_type": "stream",
          "name": "stdout",
          "text": [
            "ตัวแปร A ค่าคือ c ชนิด <class 'str'>\n"
          ]
        }
      ]
    },
    {
      "cell_type": "code",
      "source": [
        "print(f'ตัวแปร a ค่าคือ {a} ชนิด {type(a)}')"
      ],
      "metadata": {
        "colab": {
          "base_uri": "https://localhost:8080/"
        },
        "id": "VWp_zgwIwUBW",
        "outputId": "67ef1e1e-dc4f-4573-d728-e9f9cea1702b"
      },
      "execution_count": null,
      "outputs": [
        {
          "output_type": "stream",
          "name": "stdout",
          "text": [
            "ตัวแปร a ค่าคือ Ch ชนิด <class 'str'>\n"
          ]
        }
      ]
    },
    {
      "cell_type": "markdown",
      "source": [
        "----- จบคาบ 2 ------"
      ],
      "metadata": {
        "id": "HmpGbHUCwZf9"
      }
    },
    {
      "cell_type": "markdown",
      "source": [
        "# การแปลงชนิดของตัวแปร (Variable Casting) #เปลี่ยนชนิดของตัวแปล"
      ],
      "metadata": {
        "id": "sseIs4FieTM-"
      }
    },
    {
      "cell_type": "code",
      "source": [
        "print(f'int_a = {int_a} int_b = {int_b} fl_a = {fl_a} fl_b = {fl_b}')"
      ],
      "metadata": {
        "colab": {
          "base_uri": "https://localhost:8080/"
        },
        "id": "qJXV88hteXEZ",
        "outputId": "ccfb8b25-d72f-4de0-dd1a-83f1a6c15bc5"
      },
      "execution_count": null,
      "outputs": [
        {
          "output_type": "stream",
          "name": "stdout",
          "text": [
            "int_a = 7 int_b = 2 fl_a = 7.0 fl_b = 2.571\n"
          ]
        }
      ]
    },
    {
      "cell_type": "code",
      "source": [
        "str_a = '6'   # str บวก ลบ คูณหารกันไม่ได้\n",
        "str_b = '-2'"
      ],
      "metadata": {
        "id": "XMrOjBDcflHq"
      },
      "execution_count": null,
      "outputs": []
    },
    {
      "cell_type": "code",
      "source": [
        "str_a2int = int(str_a) #เปลี่ยน str เป็น int\n",
        "print(f'ตัวแปร str_a2int ค่าคือ {str_a2int} ชนิด {type(str_a2int)}')"
      ],
      "metadata": {
        "colab": {
          "base_uri": "https://localhost:8080/"
        },
        "id": "53scNnO9dvdm",
        "outputId": "7dd96dae-6f37-4689-ae1e-f483c1a593eb"
      },
      "execution_count": null,
      "outputs": [
        {
          "output_type": "stream",
          "name": "stdout",
          "text": [
            "ตัวแปร str_a2int ค่าคือ 6 ชนิด <class 'int'>\n"
          ]
        }
      ]
    },
    {
      "cell_type": "code",
      "source": [
        "str_a2int + int_a"
      ],
      "metadata": {
        "colab": {
          "base_uri": "https://localhost:8080/"
        },
        "id": "5POiVc3uePdf",
        "outputId": "a9e513d9-1c37-4c13-9612-2ef48135e0e8"
      },
      "execution_count": null,
      "outputs": [
        {
          "output_type": "execute_result",
          "data": {
            "text/plain": [
              "13"
            ]
          },
          "metadata": {},
          "execution_count": 33
        }
      ]
    },
    {
      "cell_type": "code",
      "source": [
        "str_a + int_a  #บวกกันไม่ได้"
      ],
      "metadata": {
        "colab": {
          "base_uri": "https://localhost:8080/",
          "height": 165
        },
        "id": "Y2oYHGaQeWpa",
        "outputId": "1a254de7-04b6-4853-df8c-f2da1634afb2"
      },
      "execution_count": null,
      "outputs": [
        {
          "output_type": "error",
          "ename": "TypeError",
          "evalue": "ignored",
          "traceback": [
            "\u001b[0;31m---------------------------------------------------------------------------\u001b[0m",
            "\u001b[0;31mTypeError\u001b[0m                                 Traceback (most recent call last)",
            "\u001b[0;32m<ipython-input-34-d94d87539125>\u001b[0m in \u001b[0;36m<module>\u001b[0;34m\u001b[0m\n\u001b[0;32m----> 1\u001b[0;31m \u001b[0mstr_a\u001b[0m \u001b[0;34m+\u001b[0m \u001b[0mint_a\u001b[0m  \u001b[0;31m#บวกกันไม่ได้\u001b[0m\u001b[0;34m\u001b[0m\u001b[0;34m\u001b[0m\u001b[0m\n\u001b[0m",
            "\u001b[0;31mTypeError\u001b[0m: can only concatenate str (not \"int\") to str"
          ]
        }
      ]
    },
    {
      "cell_type": "code",
      "source": [
        "int_a + str_a"
      ],
      "metadata": {
        "colab": {
          "base_uri": "https://localhost:8080/",
          "height": 165
        },
        "id": "CrZRPFrsecIs",
        "outputId": "19ce2992-077b-42e7-ef30-b8ceb1062ceb"
      },
      "execution_count": null,
      "outputs": [
        {
          "output_type": "error",
          "ename": "TypeError",
          "evalue": "ignored",
          "traceback": [
            "\u001b[0;31m---------------------------------------------------------------------------\u001b[0m",
            "\u001b[0;31mTypeError\u001b[0m                                 Traceback (most recent call last)",
            "\u001b[0;32m<ipython-input-35-6d08941122bb>\u001b[0m in \u001b[0;36m<module>\u001b[0;34m\u001b[0m\n\u001b[0;32m----> 1\u001b[0;31m \u001b[0mint_a\u001b[0m \u001b[0;34m+\u001b[0m \u001b[0mstr_a\u001b[0m\u001b[0;34m\u001b[0m\u001b[0;34m\u001b[0m\u001b[0m\n\u001b[0m",
            "\u001b[0;31mTypeError\u001b[0m: unsupported operand type(s) for +: 'int' and 'str'"
          ]
        }
      ]
    },
    {
      "cell_type": "code",
      "source": [
        "int(fl_b) # fl_b = 2.571 เปลี่ยนเป็น int ได้ 2 เพราะตัดทิ้งหลังทศ หมด"
      ],
      "metadata": {
        "colab": {
          "base_uri": "https://localhost:8080/"
        },
        "id": "bo4rlNX_eokh",
        "outputId": "247c7a23-e49d-4602-db67-a93bb5d8a2aa"
      },
      "execution_count": null,
      "outputs": [
        {
          "output_type": "execute_result",
          "data": {
            "text/plain": [
              "2"
            ]
          },
          "metadata": {},
          "execution_count": 36
        }
      ]
    },
    {
      "cell_type": "code",
      "source": [
        "float(int_a) #เปลี่ยนเป็น ทศ"
      ],
      "metadata": {
        "colab": {
          "base_uri": "https://localhost:8080/"
        },
        "id": "wTk9rvbjfP2j",
        "outputId": "92673f4d-49ec-4fc4-b7fe-71507b7cd04c"
      },
      "execution_count": null,
      "outputs": [
        {
          "output_type": "execute_result",
          "data": {
            "text/plain": [
              "7.0"
            ]
          },
          "metadata": {},
          "execution_count": 37
        }
      ]
    },
    {
      "cell_type": "code",
      "source": [
        "str(fl_b)  #เปลี่ยนเป็นข้อความ"
      ],
      "metadata": {
        "colab": {
          "base_uri": "https://localhost:8080/",
          "height": 36
        },
        "id": "YxltOS6efL7s",
        "outputId": "b86ca61e-b926-4f5b-a351-9bcc3845c7de"
      },
      "execution_count": null,
      "outputs": [
        {
          "output_type": "execute_result",
          "data": {
            "text/plain": [
              "'2.571'"
            ],
            "application/vnd.google.colaboratory.intrinsic+json": {
              "type": "string"
            }
          },
          "metadata": {},
          "execution_count": 38
        }
      ]
    },
    {
      "cell_type": "markdown",
      "source": [
        "## Operation เอาตัวแปรสองตัวมาทำอะไรกัน"
      ],
      "metadata": {
        "id": "My31ZR8Df_-x"
      }
    },
    {
      "cell_type": "markdown",
      "source": [
        "### operators (บวก (+), ลบ (-), คูณ (*), หาร (/), modulo (%), and (&), or (|))"
      ],
      "metadata": {
        "id": "w_5digYogMc3"
      }
    },
    {
      "cell_type": "code",
      "source": [
        "fl_a + int_b #ทศ บวก เต็ม ได้ ทศ เพราะทศใหญ่กว่า"
      ],
      "metadata": {
        "colab": {
          "base_uri": "https://localhost:8080/"
        },
        "id": "jzcV31M0fuhh",
        "outputId": "2ab0c393-68d3-4ebd-b5cf-b8394cd35501"
      },
      "execution_count": null,
      "outputs": [
        {
          "output_type": "execute_result",
          "data": {
            "text/plain": [
              "9.0"
            ]
          },
          "metadata": {},
          "execution_count": 39
        }
      ]
    },
    {
      "cell_type": "code",
      "source": [
        "9%2 #การหาร เอาเศษ  เช็คได้ว่าเป็นคู่หรือคี่"
      ],
      "metadata": {
        "id": "O6oZ07y4gzAp",
        "colab": {
          "base_uri": "https://localhost:8080/"
        },
        "outputId": "290c6fd3-2759-405f-e43a-e56e67703265"
      },
      "execution_count": null,
      "outputs": [
        {
          "output_type": "execute_result",
          "data": {
            "text/plain": [
              "1"
            ]
          },
          "metadata": {},
          "execution_count": 40
        }
      ]
    },
    {
      "cell_type": "code",
      "source": [
        "100%2"
      ],
      "metadata": {
        "colab": {
          "base_uri": "https://localhost:8080/"
        },
        "id": "flPC9rANgRwv",
        "outputId": "1f372d23-ee20-43be-c1ed-e2b0885d597a"
      },
      "execution_count": null,
      "outputs": [
        {
          "output_type": "execute_result",
          "data": {
            "text/plain": [
              "0"
            ]
          },
          "metadata": {},
          "execution_count": 41
        }
      ]
    },
    {
      "cell_type": "code",
      "source": [
        "int_a / int_b"
      ],
      "metadata": {
        "colab": {
          "base_uri": "https://localhost:8080/"
        },
        "id": "6PP5A3qqgYyC",
        "outputId": "6038944b-4aa0-41f6-cf6b-ea397b5e6584"
      },
      "execution_count": null,
      "outputs": [
        {
          "output_type": "execute_result",
          "data": {
            "text/plain": [
              "3.5"
            ]
          },
          "metadata": {},
          "execution_count": 42
        }
      ]
    },
    {
      "cell_type": "code",
      "source": [
        "int(int_a / int_b) #หารเอาส่วน เอาแค่จำนวนเต็ม"
      ],
      "metadata": {
        "colab": {
          "base_uri": "https://localhost:8080/"
        },
        "id": "86tVLoSmgams",
        "outputId": "09bf1d90-75ce-427e-d950-ec6bc43f2cb5"
      },
      "execution_count": null,
      "outputs": [
        {
          "output_type": "execute_result",
          "data": {
            "text/plain": [
              "3"
            ]
          },
          "metadata": {},
          "execution_count": 43
        }
      ]
    },
    {
      "cell_type": "code",
      "source": [
        "False & False"
      ],
      "metadata": {
        "colab": {
          "base_uri": "https://localhost:8080/"
        },
        "id": "7CtD-pRygc7B",
        "outputId": "fefa5f07-bd21-4b64-b294-31ba1cb0c3be"
      },
      "execution_count": null,
      "outputs": [
        {
          "output_type": "execute_result",
          "data": {
            "text/plain": [
              "False"
            ]
          },
          "metadata": {},
          "execution_count": 44
        }
      ]
    },
    {
      "cell_type": "code",
      "source": [
        "False & True"
      ],
      "metadata": {
        "colab": {
          "base_uri": "https://localhost:8080/"
        },
        "id": "o00yKpNpgevb",
        "outputId": "35c1b36c-f293-4f0b-cd3f-f1bfdc49fab7"
      },
      "execution_count": null,
      "outputs": [
        {
          "output_type": "execute_result",
          "data": {
            "text/plain": [
              "False"
            ]
          },
          "metadata": {},
          "execution_count": 45
        }
      ]
    },
    {
      "cell_type": "code",
      "source": [
        "False | True # | = or"
      ],
      "metadata": {
        "colab": {
          "base_uri": "https://localhost:8080/"
        },
        "id": "nu9Ca_BOghCx",
        "outputId": "169da31d-c85e-4dd3-9773-48dfd940d753"
      },
      "execution_count": null,
      "outputs": [
        {
          "output_type": "execute_result",
          "data": {
            "text/plain": [
              "True"
            ]
          },
          "metadata": {},
          "execution_count": 46
        }
      ]
    },
    {
      "cell_type": "markdown",
      "source": [
        "### String operations #การทำงานกับข้อความ"
      ],
      "metadata": {
        "id": "YrFJUFv1gi0t"
      }
    },
    {
      "cell_type": "markdown",
      "source": [
        "### ``+ ``-> concat(บวก),` * `-> repeat (ทำซ้ำ)"
      ],
      "metadata": {
        "id": "CuW8TVZNgsT5"
      }
    },
    {
      "cell_type": "code",
      "source": [
        "st_test1 = 'Department of Statistics, '\n",
        "st_test2 = 'Faculty of Science'"
      ],
      "metadata": {
        "id": "0U-DcBWegmyN"
      },
      "execution_count": null,
      "outputs": []
    },
    {
      "cell_type": "code",
      "source": [
        "print(st_test1+st_test2) # บวก คือการต่อข้อความ"
      ],
      "metadata": {
        "colab": {
          "base_uri": "https://localhost:8080/"
        },
        "id": "AvdbZ-Nfg1Gd",
        "outputId": "8f6b13ea-82d7-4a5f-9cdb-5259f45d6ce8"
      },
      "execution_count": null,
      "outputs": [
        {
          "output_type": "stream",
          "name": "stdout",
          "text": [
            "Department of Statistics, Faculty of Science\n"
          ]
        }
      ]
    },
    {
      "cell_type": "code",
      "source": [
        "print(10*'t') # * คือการทำซ้ำ"
      ],
      "metadata": {
        "colab": {
          "base_uri": "https://localhost:8080/"
        },
        "id": "GwE71bEng2w-",
        "outputId": "b898e8ff-9a81-43e6-ee39-f7f0b28ce680"
      },
      "execution_count": null,
      "outputs": [
        {
          "output_type": "stream",
          "name": "stdout",
          "text": [
            "tttttttttt\n"
          ]
        }
      ]
    },
    {
      "cell_type": "code",
      "source": [
        "print(3*st_test1)"
      ],
      "metadata": {
        "colab": {
          "base_uri": "https://localhost:8080/"
        },
        "id": "4rQGAi4bg4rh",
        "outputId": "22ee080f-664f-43b1-8987-2827173b12b6"
      },
      "execution_count": null,
      "outputs": [
        {
          "output_type": "stream",
          "name": "stdout",
          "text": [
            "Department of Statistics, Department of Statistics, Department of Statistics, \n"
          ]
        }
      ]
    },
    {
      "cell_type": "markdown",
      "source": [
        "## ```replace()``` แทนที่ string"
      ],
      "metadata": {
        "id": "LOg3BSN4g_xv"
      }
    },
    {
      "cell_type": "code",
      "source": [
        "st_test1.replace('e',' ') #('e',' ') ('แทนที่อะไร','ด้วยอะไร')"
      ],
      "metadata": {
        "colab": {
          "base_uri": "https://localhost:8080/",
          "height": 36
        },
        "id": "Nc7bjL5vhEAX",
        "outputId": "7b24f8d5-2504-4019-db1c-c869b514317c"
      },
      "execution_count": null,
      "outputs": [
        {
          "output_type": "execute_result",
          "data": {
            "text/plain": [
              "'D partm nt of Statistics, '"
            ],
            "application/vnd.google.colaboratory.intrinsic+json": {
              "type": "string"
            }
          },
          "metadata": {},
          "execution_count": 51
        }
      ]
    },
    {
      "cell_type": "code",
      "source": [
        "st_test1.replace('e','') ## ' '  = ช่องว่าง, '' = ลบ"
      ],
      "metadata": {
        "colab": {
          "base_uri": "https://localhost:8080/",
          "height": 36
        },
        "id": "uTFLnToYhE_s",
        "outputId": "3fc39b52-4d0b-4dcc-faff-1850e05450b7"
      },
      "execution_count": null,
      "outputs": [
        {
          "output_type": "execute_result",
          "data": {
            "text/plain": [
              "'Dpartmnt of Statistics, '"
            ],
            "application/vnd.google.colaboratory.intrinsic+json": {
              "type": "string"
            }
          },
          "metadata": {},
          "execution_count": 52
        }
      ]
    },
    {
      "cell_type": "code",
      "source": [
        "st_test1"
      ],
      "metadata": {
        "colab": {
          "base_uri": "https://localhost:8080/",
          "height": 36
        },
        "id": "KhBSGnC9hGpS",
        "outputId": "25bcb2ff-2673-48ca-90df-a4868a3f8ef7"
      },
      "execution_count": null,
      "outputs": [
        {
          "output_type": "execute_result",
          "data": {
            "text/plain": [
              "'Department of Statistics, '"
            ],
            "application/vnd.google.colaboratory.intrinsic+json": {
              "type": "string"
            }
          },
          "metadata": {},
          "execution_count": 53
        }
      ]
    },
    {
      "cell_type": "code",
      "source": [
        "'Department of Statistics, '.replace('a','x')"
      ],
      "metadata": {
        "colab": {
          "base_uri": "https://localhost:8080/",
          "height": 36
        },
        "id": "0V67k_fFhKOd",
        "outputId": "fc389589-e127-4bd4-c740-850d92545320"
      },
      "execution_count": null,
      "outputs": [
        {
          "output_type": "execute_result",
          "data": {
            "text/plain": [
              "'Depxrtment of Stxtistics, '"
            ],
            "application/vnd.google.colaboratory.intrinsic+json": {
              "type": "string"
            }
          },
          "metadata": {},
          "execution_count": 54
        }
      ]
    },
    {
      "cell_type": "markdown",
      "source": [
        "## ```split()``` แยก string"
      ],
      "metadata": {
        "id": "kVsLJYeJhMwK"
      }
    },
    {
      "cell_type": "code",
      "source": [
        "'a b c d e f g'.split() #แยกด้วยช่องว่าง"
      ],
      "metadata": {
        "colab": {
          "base_uri": "https://localhost:8080/"
        },
        "id": "aQMvpXVihPet",
        "outputId": "a0528d83-1045-41a9-927c-090bdfc75ef9"
      },
      "execution_count": null,
      "outputs": [
        {
          "output_type": "execute_result",
          "data": {
            "text/plain": [
              "['a', 'b', 'c', 'd', 'e', 'f', 'g']"
            ]
          },
          "metadata": {},
          "execution_count": 55
        }
      ]
    },
    {
      "cell_type": "code",
      "source": [
        "'a,b/c,d e/f g'.split('/') #แยกด้วย /"
      ],
      "metadata": {
        "colab": {
          "base_uri": "https://localhost:8080/"
        },
        "id": "9UKYZNcXhS8X",
        "outputId": "c51faaf7-21c7-4b8d-9526-ca0f95631951"
      },
      "execution_count": null,
      "outputs": [
        {
          "output_type": "execute_result",
          "data": {
            "text/plain": [
              "['a,b', 'c,d e', 'f g']"
            ]
          },
          "metadata": {},
          "execution_count": 56
        }
      ]
    }
  ]
}